{
 "cells": [
  {
   "cell_type": "markdown",
   "id": "1111f2c3",
   "metadata": {},
   "source": [
    "# 🌊 Water Quality Prediction Jupyter Notebook"
   ]
  },
  {
   "cell_type": "code",
   "execution_count": null,
   "id": "b3669349",
   "metadata": {},
   "outputs": [],
   "source": [
    "\n",
    "# Install required packages (uncomment if needed)\n",
    "# !pip install pandas numpy matplotlib seaborn scikit-learn\n"
   ]
  },
  {
   "cell_type": "code",
   "execution_count": null,
   "id": "3429834c",
   "metadata": {},
   "outputs": [],
   "source": [
    "\n",
    "import pandas as pd\n",
    "import numpy as np\n",
    "import matplotlib.pyplot as plt\n",
    "import seaborn as sns\n",
    "\n",
    "from sklearn.model_selection import train_test_split\n",
    "from sklearn.ensemble import RandomForestRegressor\n",
    "from sklearn.multioutput import MultiOutputRegressor\n",
    "from sklearn.metrics import mean_squared_error, r2_score\n"
   ]
  },
  {
   "cell_type": "code",
   "execution_count": null,
   "id": "06cf7fdf",
   "metadata": {},
   "outputs": [],
   "source": [
    "\n",
    "# Load dataset\n",
    "df = pd.read_csv('/mnt/data/afa2e701598d20110228.csv')\n",
    "\n",
    "# Preview data\n",
    "df.head()\n"
   ]
  },
  {
   "cell_type": "code",
   "execution_count": null,
   "id": "0de27167",
   "metadata": {},
   "outputs": [],
   "source": [
    "\n",
    "# Convert date column to datetime format if available\n",
    "if 'date' in df.columns:\n",
    "    df['date'] = pd.to_datetime(df['date'])\n",
    "    df['year'] = df['date'].dt.year\n",
    "    df['month'] = df['date'].dt.month\n"
   ]
  },
  {
   "cell_type": "code",
   "execution_count": null,
   "id": "76f01547",
   "metadata": {},
   "outputs": [],
   "source": [
    "\n",
    "# Check for nulls and column names\n",
    "print(df.columns)\n",
    "print(df.isnull().sum())\n"
   ]
  },
  {
   "cell_type": "code",
   "execution_count": null,
   "id": "273093df",
   "metadata": {},
   "outputs": [],
   "source": [
    "\n",
    "# Correlation heatmap\n",
    "plt.figure(figsize=(10, 6))\n",
    "sns.heatmap(df.select_dtypes(include=[np.number]).corr(), annot=True, cmap='coolwarm')\n",
    "plt.title(\"Correlation Heatmap\")\n",
    "plt.show()\n"
   ]
  },
  {
   "cell_type": "code",
   "execution_count": null,
   "id": "a75b0fab",
   "metadata": {},
   "outputs": [],
   "source": [
    "\n",
    "# Feature and target selection\n",
    "features = ['NH4', 'BSK5', 'Suspended', 'O2', 'NO3', 'NO2']\n",
    "targets = ['SO4', 'PO4', 'CL']\n",
    "\n",
    "# Drop rows with NA in important columns\n",
    "df_model = df[features + targets].dropna()\n",
    "\n",
    "X = df_model[features]\n",
    "y = df_model[targets]\n",
    "\n",
    "# Train/test split\n",
    "X_train, X_test, y_train, y_test = train_test_split(X, y, test_size=0.2, random_state=42)\n",
    "\n",
    "# Model training\n",
    "model = MultiOutputRegressor(RandomForestRegressor(n_estimators=100, random_state=42))\n",
    "model.fit(X_train, y_train)\n",
    "\n",
    "# Prediction and evaluation\n",
    "y_pred = model.predict(X_test)\n",
    "print(\"R2 Score:\", r2_score(y_test, y_pred))\n",
    "print(\"MSE:\", mean_squared_error(y_test, y_pred))\n"
   ]
  }
 ],
 "metadata": {},
 "nbformat": 4,
 "nbformat_minor": 5
}
